{
 "cells": [
  {
   "cell_type": "code",
   "execution_count": null,
   "metadata": {},
   "outputs": [],
   "source": [
    "# Load model with pretrained weights\n",
    "from super_gradients.training import models\n",
    "from super_gradients.common.object_names import Models\n",
    "\n",
    "# model = models.get(Models.YOLO_NAS_M, pretrained_weights=\"coco\")"
   ]
  },
  {
   "cell_type": "code",
   "execution_count": null,
   "metadata": {},
   "outputs": [],
   "source": [
    "from super_gradients import training"
   ]
  },
  {
   "cell_type": "code",
   "execution_count": null,
   "metadata": {},
   "outputs": [],
   "source": [
    "# PP_YOLOE_S\n",
    "# model = models.get(Models.PP_YOLOE_S, pretrained_weights=\"coco\", num_classes=80)\n",
    "\n",
    "# Get pretrained model from super-gradients repository.\n",
    "\n",
    "model = models.get(Models.PP_YOLOE_S, pretrained_weights=\"coco\")\n",
    "# models.convert_to_onnx(model=model, input_shape=(3,640,640), out_path=\"/workspace/pp-yoloe-s.onnx\")\n",
    "\n",
    "\n",
    "# model = models.get(Models.PP_LITE_B_SEG50, pretrained_weights=\"cityscapes\")"
   ]
  },
  {
   "cell_type": "code",
   "execution_count": null,
   "metadata": {},
   "outputs": [],
   "source": [
    "training.models.model_factory.get_architecture(Models.PP_YOLOE_S, model.get_)"
   ]
  },
  {
   "cell_type": "code",
   "execution_count": null,
   "metadata": {},
   "outputs": [],
   "source": [
    "# models.convert_to_onnx(model, './pp_yoloe_s.onnx', (640, 640, 3))"
   ]
  },
  {
   "cell_type": "code",
   "execution_count": null,
   "metadata": {},
   "outputs": [],
   "source": [
    "image_path = 'https://cdn.shopify.com/s/files/1/0084/8242/2848/files/why_us_img.jpg?v=1633587264'\n",
    "model.predict(image_path).show()"
   ]
  },
  {
   "cell_type": "code",
   "execution_count": null,
   "metadata": {},
   "outputs": [],
   "source": [
    "# model = model.to('cpu')\n",
    "# model.predict_webcam('/dev/video/0').show()"
   ]
  },
  {
   "cell_type": "code",
   "execution_count": null,
   "metadata": {},
   "outputs": [],
   "source": [
    "from torchinfo import summary\n",
    "\n",
    "summary(model=model,\n",
    "        input_size=[5, 3, 640, 640],\n",
    "        col_names=['input_size', 'output_size', 'num_params', 'trainable'],\n",
    "        col_width=20,\n",
    "        row_settings=['var_names']\n",
    "        )"
   ]
  },
  {
   "cell_type": "code",
   "execution_count": null,
   "metadata": {},
   "outputs": [],
   "source": [
    "import requests\n",
    "from PIL import Image\n",
    "from io import BytesIO\n",
    "\n",
    "# Image can be both uploaded to colab server or by a direct URL\n",
    "image_path = \"https://www.gulfplaceon30a.com/wp-content/uploads/2020/01/yolo1.jpg\"\n",
    "\n",
    "# Load image from url\n",
    "response = requests.get(image_path)\n",
    "\n",
    "# Get PIL image\n",
    "image = Image.open(BytesIO(response.content))"
   ]
  },
  {
   "cell_type": "code",
   "execution_count": null,
   "metadata": {},
   "outputs": [],
   "source": [
    "import torchvision.transforms as transforms\n",
    "import torch\n",
    "\n",
    "# Prepare preprcoess transformations\n",
    "# We resize to [640, 640] by COCO's dataset default, which the model was pretrained on.\n",
    "preprocess = transforms.Compose([\n",
    "    transforms.Resize([640, 640]),\n",
    "    transforms.PILToTensor()\n",
    "])\n",
    "\n",
    "# Run preprocess on image. unsqueeze for [Batch x Channels x Width x Height] format\n",
    "transformed_image = preprocess(image).float().unsqueeze(0)\n",
    "# print(transformed_image)"
   ]
  },
  {
   "cell_type": "code",
   "execution_count": null,
   "metadata": {},
   "outputs": [],
   "source": [
    "model.eval()\n",
    "\n",
    "# Predict using SG model\n",
    "with torch.no_grad():\n",
    "  raw_predictions = model(transformed_image)"
   ]
  },
  {
   "cell_type": "code",
   "execution_count": null,
   "metadata": {},
   "outputs": [],
   "source": [
    "print(raw_predictions[0][0].shape)\n",
    "print(raw_predictions[0][1].shape)\n",
    "\n",
    "# print(raw_predictions[1][0].shape)\n",
    "# print(raw_predictions[1][1].shape)"
   ]
  },
  {
   "cell_type": "code",
   "execution_count": null,
   "metadata": {},
   "outputs": [],
   "source": [
    "from super_gradients.training.models.detection_models.yolo_base import YoloPostPredictionCallback\n",
    "from super_gradients.training.models.detection_models.pp_yolo_e import PPYoloEPostPredictionCallback\n",
    "\n",
    "# Callback uses NMS, confidence threshold\n",
    "# predictions = YoloPostPredictionCallback(conf=0.1, iou=0.4)(raw_predictions)[0].numpy()\n",
    "\n",
    "# nx6 (x1, y1, x2, y2, confidence, class) => [N, 6]\n",
    "predictions = PPYoloEPostPredictionCallback(0.1, 0.4, 5, 1000)(raw_predictions, 'cpu')"
   ]
  },
  {
   "cell_type": "code",
   "execution_count": null,
   "metadata": {},
   "outputs": [],
   "source": [
    "predictions[0].shape"
   ]
  },
  {
   "cell_type": "code",
   "execution_count": null,
   "metadata": {},
   "outputs": [],
   "source": [
    "import matplotlib.pyplot as plt\n",
    "\n",
    "# Visualize results\n",
    "boxes = predictions[:, 0:4]\n",
    "plt.figure(figsize=(10, 10))\n",
    "plt.plot(boxes[:, [0, 2, 2, 0, 0]].T, boxes[:, [1, 1, 3, 3, 1]].T, '.-')\n",
    "plt.imshow(image.resize([640, 640]))\n",
    "plt.show()"
   ]
  },
  {
   "cell_type": "code",
   "execution_count": null,
   "metadata": {},
   "outputs": [],
   "source": []
  }
 ],
 "metadata": {
  "kernelspec": {
   "display_name": "Python 3",
   "language": "python",
   "name": "python3"
  },
  "language_info": {
   "codemirror_mode": {
    "name": "ipython",
    "version": 3
   },
   "file_extension": ".py",
   "mimetype": "text/x-python",
   "name": "python",
   "nbconvert_exporter": "python",
   "pygments_lexer": "ipython3",
   "version": "3.9.17"
  },
  "orig_nbformat": 4
 },
 "nbformat": 4,
 "nbformat_minor": 2
}
