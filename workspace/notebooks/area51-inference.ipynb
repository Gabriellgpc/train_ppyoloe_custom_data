{
 "cells": [
  {
   "cell_type": "code",
   "execution_count": null,
   "metadata": {},
   "outputs": [],
   "source": [
    "import torch\n",
    "from super_gradients.training import Trainer\n",
    "from super_gradients.training import dataloaders\n",
    "from super_gradients.training.dataloaders.dataloaders import (\n",
    "    coco_detection_yolo_format_train,\n",
    "    coco_detection_yolo_format_val,\n",
    ")\n",
    "from super_gradients.training import models\n",
    "from super_gradients.training.losses import PPYoloELoss\n",
    "from super_gradients.training.metrics import (\n",
    "    DetectionMetrics_050,\n",
    "    DetectionMetrics_050_095\n",
    ")\n",
    "from super_gradients.training.models.detection_models.pp_yolo_e import PPYoloEPostPredictionCallback\n",
    "from tqdm.auto import tqdm\n",
    "\n",
    "import os\n",
    "import requests\n",
    "import zipfile\n",
    "import cv2\n",
    "import matplotlib.pyplot as plt\n",
    "import glob\n",
    "import numpy as np\n",
    "import random\n"
   ]
  },
  {
   "cell_type": "code",
   "execution_count": null,
   "metadata": {},
   "outputs": [],
   "source": [
    "# unzip the data file\n",
    "def unzip(zip_file=None, dst=None):\n",
    "    try:\n",
    "        with zipfile.ZipFile(zip_file) as zip_ref:\n",
    "            zip_ref.extractall(dst)\n",
    "            print(\"Extracted all\")\n",
    "    except:\n",
    "        print('invalid file')\n",
    "unzip('/datasets/hituav-a-highaltitude-infrared-thermal-dataset.zip',\n",
    "      '/datasets')"
   ]
  },
  {
   "cell_type": "code",
   "execution_count": null,
   "metadata": {},
   "outputs": [],
   "source": [
    "os.makedirs('/workspace/inference_results/images', exist_ok=True)"
   ]
  },
  {
   "cell_type": "code",
   "execution_count": null,
   "metadata": {},
   "outputs": [],
   "source": [
    "device = torch.device('cuda:0') if torch.cuda.is_available() else torch.device('cpu')"
   ]
  },
  {
   "cell_type": "code",
   "execution_count": null,
   "metadata": {},
   "outputs": [],
   "source": [
    "model = models.get(\n",
    "    model_name = models.Models.YOLO_NAS_S,\n",
    "    checkpoint_path= ...,\n",
    "    num_classes=5\n",
    "    ).to(device)"
   ]
  },
  {
   "attachments": {},
   "cell_type": "markdown",
   "metadata": {},
   "source": [
    "# Inference on Test images"
   ]
  },
  {
   "cell_type": "code",
   "execution_count": null,
   "metadata": {},
   "outputs": [],
   "source": [
    "ROOT_TEST = '/datasets/hit-uav/images/test/'\n",
    "all_images = os.listdir(ROOT_TEST)"
   ]
  },
  {
   "cell_type": "code",
   "execution_count": null,
   "metadata": {},
   "outputs": [],
   "source": [
    "for image in tqdm(all_images, total=len(all_images)):\n",
    "    image_path = os.path.join(ROOT_TEST, image)\n",
    "    out = model.predcit(image_path)\n",
    "    out.save('inference_results/images')\n",
    "    os.rename(\n",
    "        os.path.join(ROOT_TEST, 'pred_0.jpg'),\n",
    "        os.path.join(ROOT_TEST, image)\n",
    "    )"
   ]
  },
  {
   "attachments": {},
   "cell_type": "markdown",
   "metadata": {},
   "source": [
    "# Overlapped Ground Truth Samples"
   ]
  },
  {
   "cell_type": "code",
   "execution_count": null,
   "metadata": {},
   "outputs": [],
   "source": [
    "classes = ['Person', 'Car', 'Bicycle', 'OtherVechicle', 'DontCare']"
   ]
  },
  {
   "cell_type": "code",
   "execution_count": null,
   "metadata": {},
   "outputs": [],
   "source": [
    "colors = np.random.uniform( 0, 255, size=(len(classes), 3) )"
   ]
  },
  {
   "cell_type": "code",
   "execution_count": null,
   "metadata": {},
   "outputs": [],
   "source": [
    "def yolo2bbox(bboxes):\n",
    "    xmin, ymin = bboxes[0] - bboxes[2]/2, bboxes[1] - bboxes[3]/2\n",
    "    xmax, ymax = bboxes[0] + bboxes[2]/2, bboxes[1] + bboxes[3]/2\n",
    "    return xmin, ymin, xmax, ymax"
   ]
  },
  {
   "cell_type": "code",
   "execution_count": null,
   "metadata": {},
   "outputs": [],
   "source": [
    "def plot_box(image, bboxes, labels):\n",
    "    # Need the image height and width to denormalize\n",
    "    # the bounding box coordinates\n",
    "    height, width = image.shape[:2]\n",
    "    # lw = max(round(sum(image.shape / 2 * 0.003)), 2) # line width\n",
    "    lw = max(round( sum(image.shape) / 2 * 0.003 ),2)\n",
    "    tf = max(lw - 1, 1)\n",
    "    for box_num, box in enumerate(bboxes):\n",
    "        x1, y1, x2, y2 = yolo2bbox(box)\n",
    "        # denormalize the coordinates\n",
    "        xmin = int(x1*width)\n",
    "        ymin = int(y1*height)\n",
    "        xmax = int(x2*width)\n",
    "        ymax = int(y2*height)\n",
    "\n",
    "        p1, p2 = (int(xmin), int(ymin)), (int(xmax), int(ymax))\n",
    "\n",
    "        class_name = classes[int(labels[box_num])]\n",
    "\n",
    "        color = colors[classes.index(class_name)]\n",
    "\n",
    "        cv2.rectangle(image, p1, p2, color=color, thickness=lw, lineType=cv2.LINE_AA)\n",
    "\n",
    "        # for filled rectangle\n",
    "        w, h = cv2.getTextSize(class_name,\n",
    "                               0,\n",
    "                               fontScale=lw/3,\n",
    "                               thickness=tf)[0]\n",
    "        outside = p1[1] - h >= 3\n",
    "        p2 = p1[0] + w, p1[1] - h - 3 if outside else p1[1] + h + 3\n",
    "        # p2 = p1[0] + w, (p1[1] - h - 3 if outside else p1[1] + h + 3)\n",
    "\n",
    "        cv2.rectangle(image, p1, p2, color=color, thickness=-1, lineType=cv2.LINE_AA)\n",
    "        cv2.putText(image,\n",
    "                    class_name,\n",
    "                    (p1[0], p1[1] -5 if outside else p1[1] + h + 2),\n",
    "                    cv2.FONT_HERSHEY_SIMPLEX,\n",
    "                    fontScale=lw/3.5,\n",
    "                    color=(255,255,255),\n",
    "                    thickness=tf,\n",
    "                    lineType=cv2.LINE_AA\n",
    "                )\n",
    "    return image"
   ]
  },
  {
   "cell_type": "code",
   "execution_count": null,
   "metadata": {},
   "outputs": [],
   "source": []
  },
  {
   "cell_type": "code",
   "execution_count": null,
   "metadata": {},
   "outputs": [],
   "source": []
  }
 ],
 "metadata": {
  "kernelspec": {
   "display_name": "Python 3",
   "language": "python",
   "name": "python3"
  },
  "language_info": {
   "codemirror_mode": {
    "name": "ipython",
    "version": 3
   },
   "file_extension": ".py",
   "mimetype": "text/x-python",
   "name": "python",
   "nbconvert_exporter": "python",
   "pygments_lexer": "ipython3",
   "version": "3.9.17"
  },
  "orig_nbformat": 4
 },
 "nbformat": 4,
 "nbformat_minor": 2
}
