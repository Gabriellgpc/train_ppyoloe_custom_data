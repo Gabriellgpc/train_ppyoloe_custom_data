{
 "cells": [
  {
   "cell_type": "code",
   "execution_count": null,
   "metadata": {},
   "outputs": [],
   "source": [
    "import super_gradients as sg\n",
    "\n",
    "from torch.utils.data import Dataset\n",
    "from torch.utils.data import DataLoader\n",
    "\n",
    "import torchvision.transforms as T\n",
    "import albumentations as A\n",
    "import numpy as np\n",
    "import torch\n",
    "\n",
    "from dataset import YOLODataset, detection_collate_fn"
   ]
  },
  {
   "cell_type": "code",
   "execution_count": null,
   "metadata": {},
   "outputs": [],
   "source": [
    "transforms = A.Compose(\n",
    "    [\n",
    "        A.ToFloat(max_value=255),\n",
    "        A.HorizontalFlip(),\n",
    "        A.Resize(320, 320),\n",
    "    ],\n",
    "    bbox_params=A.BboxParams(format='yolo', label_fields=['labels', 'indexes'])\n",
    "    )"
   ]
  },
  {
   "cell_type": "code",
   "execution_count": null,
   "metadata": {},
   "outputs": [],
   "source": [
    "transforms = A.Compose(\n",
    "    [\n",
    "        A.ToFloat(max_value=255),\n",
    "        A.HorizontalFlip(),\n",
    "        A.Resize(320, 320),\n",
    "    ],\n",
    "    bbox_params=A.BboxParams(format='yolo', label_fields=['labels', 'indexes'])\n",
    "    )\n",
    "\n",
    "train_dataset = YOLODataset(images_dir='/datasets/hituav-a-highaltitude-infrared-thermal-dataset/hit-uav/images/train',\n",
    "                      labels_dir='/datasets/hituav-a-highaltitude-infrared-thermal-dataset/hit-uav/labels/train',\n",
    "                      transforms=transforms,\n",
    "                      class_names=['Person', 'Car', 'Bicycle', 'OtherVehicle', 'DontCare'])\n",
    "\n",
    "train_dataset.plot()"
   ]
  },
  {
   "cell_type": "code",
   "execution_count": null,
   "metadata": {},
   "outputs": [],
   "source": [
    "transforms = A.Compose(\n",
    "    [\n",
    "        A.ToFloat(max_value=255),\n",
    "        A.Resize(320, 320),\n",
    "    ],\n",
    "    bbox_params=A.BboxParams(format='yolo', label_fields=['labels', 'indexes'])\n",
    "    )\n",
    "\n",
    "valid_dataset = YOLODataset(images_dir='/datasets/hituav-a-highaltitude-infrared-thermal-dataset/hit-uav/images/val',\n",
    "                      labels_dir='/datasets/hituav-a-highaltitude-infrared-thermal-dataset/hit-uav/labels/val',\n",
    "                      transforms=transforms,\n",
    "                      class_names=['Person', 'Car', 'Bicycle', 'OtherVehicle', 'DontCare'])\n",
    "\n",
    "valid_dataset.plot()"
   ]
  },
  {
   "cell_type": "code",
   "execution_count": null,
   "metadata": {},
   "outputs": [],
   "source": [
    "def detection_collate_fn(raw_batch):\n",
    "\n",
    "    images = []      # [B, H, W, C] or [B, C, H, W]\n",
    "    annotations = [] # [B, ND*6], ND: #detections\n",
    "\n",
    "    for i, _ in enumerate(raw_batch):\n",
    "        image = raw_batch[i][0]\n",
    "        annotation =  raw_batch[i][1]\n",
    "\n",
    "        annotation = np.array(annotation).reshape(-1,6)\n",
    "\n",
    "        images.append(image)\n",
    "        annotations.append( np.array(annotation).reshape(-1,6) )\n",
    "\n",
    "    batch_images = torch.from_numpy(np.array( images ))\n",
    "    batch_annotations = torch.from_numpy( np.vstack( annotations )  )\n",
    "\n",
    "    return batch_images, batch_annotations"
   ]
  },
  {
   "cell_type": "code",
   "execution_count": null,
   "metadata": {},
   "outputs": [],
   "source": [
    "# annotations = [np.random.uniform(0, 1, size=[8*nd, 6]) for nd in range(1, 10)]\n",
    "# np.vstack(annotations).shape"
   ]
  },
  {
   "cell_type": "code",
   "execution_count": null,
   "metadata": {},
   "outputs": [],
   "source": [
    "train_loader = DataLoader(train_dataset, batch_size=8, shuffle=True, collate_fn=detection_collate_fn)\n",
    "valid_loader = DataLoader(valid_dataset, batch_size=8, shuffle=False, collate_fn=detection_collate_fn)"
   ]
  },
  {
   "cell_type": "code",
   "execution_count": null,
   "metadata": {},
   "outputs": [],
   "source": [
    "# Global parameters\n",
    "EPOCHS = 10\n",
    "BATCH_SIZE = 8\n",
    "WORKERS = 4\n",
    "IMAGE_SIZE = 320\n",
    "\n",
    "ROOT_DIR = '/datasets/hit-uav'\n",
    "train_imgs_dir = 'images/train'\n",
    "train_labels_dir = 'labels/train'\n",
    "\n",
    "val_imgs_dir = 'images/val'\n",
    "val_labels_dir = 'labels/val'\n",
    "\n",
    "test_imgs_dir = 'images/test'\n",
    "test_labels_dir = 'labels/test'\n",
    "\n",
    "classes = ['Person', 'Car', 'Bicycle', 'OtherVechicle', 'DontCare']"
   ]
  },
  {
   "cell_type": "code",
   "execution_count": null,
   "metadata": {},
   "outputs": [],
   "source": [
    "from super_gradients.training import Trainer\n",
    "from super_gradients.training import dataloaders\n",
    "from super_gradients.training import transforms\n",
    "from super_gradients.training.datasets import data_augmentation\n",
    "from super_gradients.training import models\n",
    "from super_gradients.training.losses import PPYoloELoss\n",
    "from super_gradients.training.metrics import (\n",
    "    DetectionMetrics_050,\n",
    "    DetectionMetrics_050_095\n",
    ")\n",
    "from super_gradients.training.models.detection_models.pp_yolo_e import PPYoloEPostPredictionCallback\n",
    "from tqdm.auto import tqdm\n",
    "\n",
    "import matplotlib.pyplot as plt"
   ]
  },
  {
   "cell_type": "code",
   "execution_count": null,
   "metadata": {},
   "outputs": [],
   "source": [
    "train_params = {\n",
    "    'silent_mode': False,\n",
    "    'sync_bn': True,\n",
    "    'average_best_models': True,\n",
    "    'warmup_mode':'linear_epoch_step',\n",
    "    'warmup_initial_lr': 1e-6,\n",
    "    'lr_warmup_epochs':3,\n",
    "    'initial_lr':2e-3,\n",
    "    'lr_mode':'cosine',\n",
    "    'cosine_final_lr_ratio':0.1,\n",
    "    'optimizer':'AdamW',\n",
    "    'optimizer_params':{'weight_decay':0.0001},\n",
    "    'zero_weight_decay_on_bias_and_bn': False,\n",
    "    'ema': True,\n",
    "    'ema_params': {'decay':0.9997, 'decay_type': 'threshold'},\n",
    "    'max_epochs': EPOCHS,\n",
    "    'mixed_precision':False,\n",
    "    'loss': PPYoloELoss(\n",
    "        use_static_assigner=False,\n",
    "        num_classes=len(classes),\n",
    "        reg_max=16\n",
    "    ),\n",
    "    'valid_metrics_list':[\n",
    "        DetectionMetrics_050(\n",
    "            score_thres=0.1,\n",
    "            top_k_predictions=300,\n",
    "            num_cls=len(classes),\n",
    "            normalize_targets=True,\n",
    "            post_prediction_callback=PPYoloEPostPredictionCallback(\n",
    "                score_threshold=0.01,\n",
    "                nms_top_k=1000,\n",
    "                max_predictions=300,\n",
    "                nms_threshold=0.7,\n",
    "            )\n",
    "        ),\n",
    "        DetectionMetrics_050_095(\n",
    "            score_thres=0.1,\n",
    "            top_k_predictions=300,\n",
    "            num_cls=len(classes),\n",
    "            normalize_targets=True,\n",
    "            post_prediction_callback=PPYoloEPostPredictionCallback(\n",
    "                score_threshold=0.01,\n",
    "                nms_top_k=1000,\n",
    "                max_predictions=300,\n",
    "                nms_threshold=0.7,\n",
    "            )\n",
    "        )\n",
    "    ],\n",
    "    'metric_to_watch':'mAP@0.50:0.95',\n",
    "    'greater_metric_to_watch_is_better': True,\n",
    "}"
   ]
  },
  {
   "cell_type": "code",
   "execution_count": null,
   "metadata": {},
   "outputs": [],
   "source": [
    "# ppyoloe_s, ppyoloe_m, ppyoloe_l, ppyoloe_x\n",
    "model = sg.training.models.get(model_name=sg.training.models.Models.PP_YOLOE_S, pretrained_weights='coco', num_classes=len(classes))"
   ]
  },
  {
   "cell_type": "code",
   "execution_count": null,
   "metadata": {},
   "outputs": [],
   "source": [
    "trainer = sg.Trainer(experiment_name='test-custom-dataloader', ckpt_root_dir='/workspace/ckps')\n",
    "\n",
    "trainer.train(model=model,\n",
    "              train_loader = train_loader,\n",
    "              valid_loader = valid_loader,\n",
    "              training_params=train_params)"
   ]
  },
  {
   "cell_type": "code",
   "execution_count": null,
   "metadata": {},
   "outputs": [],
   "source": [
    "ib, ab = next(iter(valid_loader))"
   ]
  },
  {
   "cell_type": "code",
   "execution_count": null,
   "metadata": {},
   "outputs": [],
   "source": [
    "ib.shape"
   ]
  },
  {
   "cell_type": "code",
   "execution_count": null,
   "metadata": {},
   "outputs": [],
   "source": [
    "ib"
   ]
  },
  {
   "cell_type": "code",
   "execution_count": null,
   "metadata": {},
   "outputs": [],
   "source": [
    "model.to('cpu')\n",
    "model.eval()\n",
    "out = model.forward( ib )"
   ]
  },
  {
   "cell_type": "code",
   "execution_count": null,
   "metadata": {},
   "outputs": [],
   "source": [
    "out[0][1].shape"
   ]
  },
  {
   "cell_type": "code",
   "execution_count": null,
   "metadata": {},
   "outputs": [],
   "source": [
    "PPYoloEPostPredictionCallback(0.1, 0.1, 10, 1000)(out, 'cpu')"
   ]
  },
  {
   "attachments": {},
   "cell_type": "markdown",
   "metadata": {},
   "source": [
    "# MyDataset & Dataloader"
   ]
  },
  {
   "cell_type": "code",
   "execution_count": null,
   "metadata": {},
   "outputs": [],
   "source": [
    "# 0: Person\n",
    "# 1: Car\n",
    "# 2: Bicycle\n",
    "# 3: OtherVehicle\n",
    "# 4: DontCare\n",
    "yolodataset = sg.training.datasets.YoloDarknetFormatDetectionDataset(data_dir='/datasets/hituav-a-highaltitude-infrared-thermal-dataset/hit-uav',\n",
    "                                                       images_dir='images/test',\n",
    "                                                       labels_dir='labels/test',\n",
    "                                                       classes=['Person', 'Car', 'OtherVehicle', 'DontCare'])"
   ]
  },
  {
   "cell_type": "code",
   "execution_count": null,
   "metadata": {},
   "outputs": [],
   "source": [
    "ib, lb = next(iter(yolodataset))"
   ]
  },
  {
   "cell_type": "code",
   "execution_count": null,
   "metadata": {},
   "outputs": [],
   "source": [
    "yolodataset = sg.training.datasets.YoloDarknetFormatDetectionDataset(data_dir='/datasets/hituav-a-highaltitude-infrared-thermal-dataset/hit-uav',\n",
    "                                                        images_dir='images/test',\n",
    "                                                        labels_dir='labels/test',\n",
    "                                                        classes=['Person', 'Car', 'OtherVehicle', 'DontCare'])"
   ]
  },
  {
   "cell_type": "code",
   "execution_count": null,
   "metadata": {},
   "outputs": [],
   "source": [
    "ib, lb = next(iter(yolodataset))"
   ]
  },
  {
   "cell_type": "code",
   "execution_count": null,
   "metadata": {},
   "outputs": [],
   "source": [
    "lb.shape"
   ]
  },
  {
   "cell_type": "code",
   "execution_count": null,
   "metadata": {},
   "outputs": [],
   "source": [
    "yolodataset_loader = DataLoader(yolodataset, batch_size=8)"
   ]
  },
  {
   "cell_type": "code",
   "execution_count": null,
   "metadata": {},
   "outputs": [],
   "source": [
    "ib, lb = next(iter(yolodataset_loader))"
   ]
  },
  {
   "cell_type": "code",
   "execution_count": null,
   "metadata": {},
   "outputs": [],
   "source": [
    "# yolodataset = sg.training.datasets.YoloDarknetFormatDetectionDataset(data_dir='/datasets/hituav-a-highaltitude-infrared-thermal-dataset/hit-uav',\n",
    "#                                                        images_dir='images/test',\n",
    "#                                                        labels_dir='labels/test',\n",
    "#                                                        classes=['Person', 'Car', 'OtherVehicle', 'DontCare'])\n",
    "\n",
    "dataset = YOLODataset(images_dir='/datasets/hituav-a-highaltitude-infrared-thermal-dataset/hit-uav/images/test',\n",
    "                      labels_dir='/datasets/hituav-a-highaltitude-infrared-thermal-dataset/hit-uav/labels/test',\n",
    "                      transforms=None,\n",
    "                      class_names=['Person', 'Car', 'OtherVehicle', 'DontCare'])"
   ]
  },
  {
   "cell_type": "code",
   "execution_count": null,
   "metadata": {},
   "outputs": [],
   "source": [
    "image, annotations = dataset.__getitem__(0)\n",
    "print(image.shape)\n",
    "print(annotations.shape)"
   ]
  },
  {
   "cell_type": "code",
   "execution_count": null,
   "metadata": {},
   "outputs": [],
   "source": [
    "len(dataset)"
   ]
  },
  {
   "cell_type": "code",
   "execution_count": null,
   "metadata": {},
   "outputs": [],
   "source": [
    "dataset.plot()"
   ]
  }
 ],
 "metadata": {
  "kernelspec": {
   "display_name": "Python 3",
   "language": "python",
   "name": "python3"
  },
  "language_info": {
   "codemirror_mode": {
    "name": "ipython",
    "version": 3
   },
   "file_extension": ".py",
   "mimetype": "text/x-python",
   "name": "python",
   "nbconvert_exporter": "python",
   "pygments_lexer": "ipython3",
   "version": "3.9.17"
  },
  "orig_nbformat": 4
 },
 "nbformat": 4,
 "nbformat_minor": 2
}
